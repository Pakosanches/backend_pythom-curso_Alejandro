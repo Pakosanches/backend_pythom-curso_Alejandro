{
 "cells": [
  {
   "cell_type": "code",
   "execution_count": 7,
   "id": "d5490324-956d-49b0-87e9-d3326b5264e2",
   "metadata": {},
   "outputs": [
    {
     "name": "stdin",
     "output_type": "stream",
     "text": [
      "Introduzca un primer valor 30\n",
      "Introduzca un segundo valor 10\n"
     ]
    }
   ],
   "source": [
    "\"\"\"\n",
    "(1) Suma\n",
    "(2) Resta\n",
    "(3) Multiplicación\n",
    "(4) División \n",
    "(5) Potencia\n",
    "\"\"\"\n",
    "def calculadora(num1, num2, op):\n",
    "  print(\"Bienvenidos a la calculadora Pyhton\") \n",
    "  if op == 1:\n",
    "    print(f'El resultado de la suma entre {num1} y {num2} es de: {num1 + num2}')\n",
    "  elif op == 2:\n",
    "    print(f'El resultado de la resta entre {num1} y {num2} es de: {num1 - num2}')\n",
    "  elif op == 3: \n",
    "    print(f'El resultado de la multiplicación entre {num1} y {num2} es de: {num1 * num2}')\n",
    "  elif op == 4: \n",
    "    print(f'El resultado de la división entre {num1} y {num2} es de: {num1 / num2}')\n",
    "  elif op == 5:\n",
    "    print(f'El resultado de la potencia entre {num1} y {num2} es de: {num1 ** num2}')\n",
    "  else:\n",
    "    print(\"Opción equivocada\") \n",
    "\n",
    "variable1 = float(input(\"Introduzca un primer valor\"))\n",
    "variable2 = float(input(\"Introduzca un segundo valor\"))"
   ]
  },
  {
   "cell_type": "code",
   "execution_count": 5,
   "id": "3c8d598e-9ae7-4e91-9997-b3750b9102c2",
   "metadata": {},
   "outputs": [
    {
     "name": "stdout",
     "output_type": "stream",
     "text": [
      "Bienvenidos a la calculadora Pyhton\n",
      "El resultado de la potencia entre 10.0 y 30.0 es de: 1e+30\n"
     ]
    }
   ],
   "source": [
    "calculadora(variable1,variable2,5)"
   ]
  },
  {
   "cell_type": "code",
   "execution_count": 6,
   "id": "7efa849a-eb6f-40ef-9649-e69a486422b6",
   "metadata": {},
   "outputs": [
    {
     "name": "stdout",
     "output_type": "stream",
     "text": [
      "Bienvenidos a la calculadora Pyhton\n",
      "Opción equivocada\n"
     ]
    }
   ],
   "source": [
    "calculadora(variable1,variable2,6)"
   ]
  },
  {
   "cell_type": "code",
   "execution_count": 8,
   "id": "055f374d-a321-46c9-b9b2-c321db02cf00",
   "metadata": {},
   "outputs": [
    {
     "name": "stdout",
     "output_type": "stream",
     "text": [
      "Bienvenidos a la calculadora Pyhton\n",
      "El resultado de la resta entre 30.0 y 10.0 es de: 20.0\n"
     ]
    }
   ],
   "source": [
    "calculadora(variable1,variable2,2)"
   ]
  },
  {
   "cell_type": "code",
   "execution_count": null,
   "id": "10eb6e9d-63ed-4129-9513-d71e4a340e9e",
   "metadata": {},
   "outputs": [],
   "source": []
  }
 ],
 "metadata": {
  "kernelspec": {
   "display_name": "Python 3 (ipykernel)",
   "language": "python",
   "name": "python3"
  },
  "language_info": {
   "codemirror_mode": {
    "name": "ipython",
    "version": 3
   },
   "file_extension": ".py",
   "mimetype": "text/x-python",
   "name": "python",
   "nbconvert_exporter": "python",
   "pygments_lexer": "ipython3",
   "version": "3.12.4"
  }
 },
 "nbformat": 4,
 "nbformat_minor": 5
}
