{
 "cells": [
  {
   "cell_type": "code",
   "execution_count": 66,
   "id": "47ea0751-c3e1-4cf2-b13c-e2d2f30f5af0",
   "metadata": {},
   "outputs": [
    {
     "name": "stdout",
     "output_type": "stream",
     "text": [
      "bienvenidos a la calculadora de pythom\n",
      "Operandos: [10, 2, 3]\n",
      "Operación: suma\n",
      "Resultado de la suma: 15\n",
      "Suma de la lista: 15\n",
      "Operandos: (10, 2, 3)\n",
      "Operación: resta\n",
      "Resultado de la resta: 5\n",
      "Resta de la tupla: 5\n",
      "Operandos: {2, 10, 3}\n",
      "Operación: multiplicacion\n",
      "Resultado de la multiplicación: 60\n",
      "Multiplicación del conjunto: 60\n"
     ]
    }
   ],
   "source": [
    "print(\"¡Bienvenidos a la calculadora de pythom!)\n",
    "def calculadora(operandos, operacion):\n",
    "    if isinstance(operandos, (list, tuple, set)):\n",
    "        print(f\"Operandos: {operandos}\")\n",
    "        print(f\"Operación: {operacion}\")\n",
    "\n",
    "        if operacion == 'suma':\n",
    "            resultado = sum(operandos)\n",
    "            print(f\"Resultado de la suma: {resultado}\")\n",
    "            return resultado\n",
    "\n",
    "        elif operacion == 'resta':\n",
    "            resultado = operandos[0] - sum(operandos[1:])\n",
    "            print(f\"Resultado de la resta: {resultado}\")\n",
    "            return resultado\n",
    "\n",
    "        elif operacion == 'multiplicacion':\n",
    "            resultado = 1\n",
    "            for num in operandos:\n",
    "                resultado *= num\n",
    "            print(f\"Resultado de la multiplicación: {resultado}\")\n",
    "            return resultado\n",
    "\n",
    "        elif operacion == 'division':\n",
    "            resultado = operandos[0]\n",
    "            for num in operandos[1:]:\n",
    "                if num == 0:\n",
    "                    raise ValueError(\"No se puede dividir por cero.\")\n",
    "                resultado /= num\n",
    "            print(f\"Resultado de la división: {resultado}\")\n",
    "            return resultado\n",
    "\n",
    "        else:\n",
    "             Error(\"Operación no soportada.\")\n",
    "    else:\n",
    "         Error(\"Los operandos deben ser una lista, tupla o set.\")\n",
    "\n",
    "# Ejemplo de operación\n",
    "lista = [10, 2, 3]\n",
    "tupla = (10, 2, 3)\n",
    "sets = {10, 2, 3}\n",
    "\n",
    "print(f\"Suma de la lista: {calculadora(lista, 'suma')}\")\n",
    "print(f\"Resta de la tupla: {calculadora(tupla, 'resta')}\")\n",
    "print(f\"Multiplicación del conjunto: {calculadora(conjunto, 'multiplicacion')}\")"
   ]
  },
  {
   "cell_type": "code",
   "execution_count": null,
   "id": "f1245e0a-6060-431a-b769-1966cf7a0c08",
   "metadata": {},
   "outputs": [],
   "source": []
  }
 ],
 "metadata": {
  "kernelspec": {
   "display_name": "Python 3 (ipykernel)",
   "language": "python",
   "name": "python3"
  },
  "language_info": {
   "codemirror_mode": {
    "name": "ipython",
    "version": 3
   },
   "file_extension": ".py",
   "mimetype": "text/x-python",
   "name": "python",
   "nbconvert_exporter": "python",
   "pygments_lexer": "ipython3",
   "version": "3.12.4"
  }
 },
 "nbformat": 4,
 "nbformat_minor": 5
}
