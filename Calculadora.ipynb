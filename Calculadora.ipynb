{
 "cells": [
  {
   "cell_type": "code",
   "execution_count": 12,
   "id": "d5490324-956d-49b0-87e9-d3326b5264e2",
   "metadata": {},
   "outputs": [
    {
     "name": "stdin",
     "output_type": "stream",
     "text": [
      "Introduzca un primer valor 1.2\n",
      "Introduzca un segundo valor 1.3\n"
     ]
    }
   ],
   "source": [
    "\"\"\"\n",
    "(1) Suma\n",
    "(2) Resta\n",
    "(3) Multiplicación\n",
    "(4) División \n",
    "\"\"\"\n",
    "def calculadora(num1, num2, op):\n",
    "  print(\"Bienvenidos a la calculadora Pyhton\") \n",
    "  if op == 1:\n",
    "    print(f'El resultado de la suma entre {num1} y {num2} es de: {num1 + num2}')\n",
    "  elif op == 2:\n",
    "    print(f'El resultado de la resta entre {num1} y {num2} es de: {num1 - num2}')\n",
    "  elif op == 3: \n",
    "    print(f'El resultado de la multiplicación entre {num1} y {num2} es de: {num1 * num2}')\n",
    "  elif op == 4: \n",
    "    print(f'El resultado de la división entre {num1} y {num2} es de: {num1 / num2}')\n",
    "  else:\n",
    "    print(\"Opción equivocada\") \n",
    "\n",
    "variable1 = float(input(\"Introduzca un primer valor\"))\n",
    "variable2 = float(input(\"Introduzca un segundo valor\"))"
   ]
  },
  {
   "cell_type": "code",
   "execution_count": 13,
   "id": "7613cd29-b334-416b-b602-45f891536b0c",
   "metadata": {},
   "outputs": [
    {
     "name": "stdout",
     "output_type": "stream",
     "text": [
      "Bienvenidos a la calculadora Pyhton\n",
      "El resultado de la suma entre 1.2 y 1.3 es de: 2.5\n"
     ]
    }
   ],
   "source": [
    "calculadora(variable1,variable2,1)"
   ]
  },
  {
   "cell_type": "code",
   "execution_count": null,
   "id": "d82f9ce7-294d-4ea5-b924-846dab479069",
   "metadata": {},
   "outputs": [],
   "source": [
    "calculadora(variable1,variable2,5)"
   ]
  },
  {
   "cell_type": "code",
   "execution_count": null,
   "id": "3c8d598e-9ae7-4e91-9997-b3750b9102c2",
   "metadata": {},
   "outputs": [],
   "source": []
  }
 ],
 "metadata": {
  "kernelspec": {
   "display_name": "Python 3 (ipykernel)",
   "language": "python",
   "name": "python3"
  },
  "language_info": {
   "codemirror_mode": {
    "name": "ipython",
    "version": 3
   },
   "file_extension": ".py",
   "mimetype": "text/x-python",
   "name": "python",
   "nbconvert_exporter": "python",
   "pygments_lexer": "ipython3",
   "version": "3.12.4"
  }
 },
 "nbformat": 4,
 "nbformat_minor": 5
}
