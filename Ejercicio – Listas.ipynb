{
 "cells": [
  {
   "cell_type": "code",
   "execution_count": 23,
   "id": "9462c174-9038-4bb3-bcd0-7084a45de28d",
   "metadata": {},
   "outputs": [
    {
     "name": "stdout",
     "output_type": "stream",
     "text": [
      "Carrito de compras\n",
      "\n",
      " \n",
      "Productos Disponibles:\n",
      "1.- Pan\n",
      "2.- Jamón\n",
      "3.- Crema \n",
      "4.- Mayonesa\n",
      "5.- Lechuga \n",
      "6.- Tomate\n",
      "7.- Brócoli\n",
      "8.- Carne\n",
      "\n",
      "Ingresa una lista con los productos en este formato: [[Cantidad,Producto]]\n",
      "Por ejemplo: [[1,1], [3,2]] significa 1 Pan y 3 Jamón\n"
     ]
    },
    {
     "name": "stdin",
     "output_type": "stream",
     "text": [
      " [[2,6], [3,8], [4,7], [1,5]]\n"
     ]
    },
    {
     "name": "stdout",
     "output_type": "stream",
     "text": [
      "\n",
      "\n",
      "Tu carrito es:\n",
      "2 Tomate\n",
      "3 Carne\n",
      "4 Brócoli\n",
      "1 Lechuga\n",
      "Formato incorrecto, debes ingresar una lista de listas\n"
     ]
    }
   ],
   "source": [
    "print(\"Carrito de compras\\n\") \n",
    "\n",
    "print(\"\"\" \n",
    "Productos Disponibles:\n",
    "1.- Pan\n",
    "2.- Jamón\n",
    "3.- Crema \n",
    "4.- Mayonesa\n",
    "5.- Lechuga \n",
    "6.- Tomate\n",
    "7.- Brócoli\n",
    "8.- Carne\n",
    "\"\"\")\n",
    "\n",
    "print(\"Ingresa una lista con los productos en este formato: [[Cantidad,Producto]]\")\n",
    "print(\"Por ejemplo: [[1,1], [3,2]] significa 1 Pan y 3 Jamón\" )\n",
    "\n",
    "my_shopping_cart = eval(input()) \n",
    "\n",
    "print(\"\\n\\nTu carrito es:\") \n",
    "if type(my_shopping_cart) == list: \n",
    "    if type(my_shopping_cart[0]) == list: \n",
    "       for element in my_shopping_cart:   \n",
    "           product = \"\"  \n",
    "           if element[1] == 1:  \n",
    "                product = \"Pan\"   \n",
    "           if element[1] == 2:    \n",
    "                product = \"Jamón\"    \n",
    "           if element[1] == 3:\n",
    "                product = \"Crema\"     \n",
    "           if element[1] == 4:  \n",
    "                product = \"Mayonesa\"  \n",
    "           if element[1] == 5:   \n",
    "                product = \"Lechuga\"  \n",
    "           if element[1] == 6:\n",
    "                product = \"Tomate\"\n",
    "           if element[1] == 7:\n",
    "                product = \"Brócoli\"\n",
    "           if element[1] == 8:\n",
    "                product = \"Carne\"\n",
    "           \n",
    "           print(\"{} {}\".format(element[0], product)) \n",
    "       else:\n",
    "         print(\"Formato incorrecto, debes ingresar una lista de listas\")\n",
    "else:   \n",
    "   print(\"Formato incorrecto, debes ingresar una lista de listas\")"
   ]
  },
  {
   "cell_type": "code",
   "execution_count": null,
   "id": "d32ba4b3-c0dd-49da-9824-10e666eab623",
   "metadata": {},
   "outputs": [],
   "source": []
  }
 ],
 "metadata": {
  "kernelspec": {
   "display_name": "Python 3 (ipykernel)",
   "language": "python",
   "name": "python3"
  },
  "language_info": {
   "codemirror_mode": {
    "name": "ipython",
    "version": 3
   },
   "file_extension": ".py",
   "mimetype": "text/x-python",
   "name": "python",
   "nbconvert_exporter": "python",
   "pygments_lexer": "ipython3",
   "version": "3.12.4"
  }
 },
 "nbformat": 4,
 "nbformat_minor": 5
}
