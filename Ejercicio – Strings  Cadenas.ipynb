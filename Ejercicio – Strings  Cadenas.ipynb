{
 "cells": [
  {
   "cell_type": "code",
   "execution_count": null,
   "id": "1168c348-70f4-4fa8-a8b9-b1758c8dcceb",
   "metadata": {},
   "outputs": [
    {
     "name": "stdout",
     "output_type": "stream",
     "text": [
      "Analizador de sentimientos\n",
      "\n",
      "my_string:  Este es un producto muy bueno, excelente, maravilloso \n",
      "score: 3 \n",
      "resultado: Positivo\n"
     ]
    }
   ],
   "source": [
    "my_string = \"\"\" Este es un producto muy bueno, excelente, maravilloso \"\"\" \n",
    "positive_words = [\"bueno\", \"excelente\", \"maravilloso\"] \n",
    "negative_words = [\"defectuoso\", \"malo\", \"horrible\"] \n",
    "\n",
    "score = 0 \n",
    "for positive_word in positive_words: #For es un tipo de iteración qué es el encargado de contar cuantas palabras positivas hay en my_string\n",
    "    score = score + my_string.count(positive_word)\n",
    "    \n",
    "for negative_word in negative_words: \n",
    "    score = score - my_string.count(negative_word) \n",
    "    \n",
    "if score == 0:\n",
    "    result = \"Neutro\"\n",
    "if score > 0:   \n",
    "    result = \"Positivo\" \n",
    "if score < 0:  \n",
    "    result = \"Negativo\" \n",
    "    \n",
    "print(\"Analizador de sentimientos\\n\")\n",
    "print(\"my_string: {}\\nscore: {} \\nresultado: {}\".format(my_string, score, result))"
   ]
  },
  {
   "cell_type": "code",
   "execution_count": null,
   "id": "bb1be368-7f4f-49e4-b94d-02131d7d2518",
   "metadata": {},
   "outputs": [
    {
     "name": "stdout",
     "output_type": "stream",
     "text": [
      "Analizador de sentimientos\n",
      "\n",
      "comentario:  Esta serie podría mejorar, la trama es excelente pero la animación es defectuosa por momentos. \n",
      "Es genial ver como le colocaron el empeño en construir un mundo tan magico y real, pero al mismo hay puntos \n",
      "en la historia que no tienen sentido e incluso llega a ser aburrido. Quitando todo eso, es recomendada para los fans\n",
      "de mundos magicos, seguro les va a gustar, pero puede decepcionarles un poco a los que buscan algo con más calidad\n",
      "score: 1 \n",
      "resultado: Positivo\n"
     ]
    }
   ],
   "source": [
    "comentario = \"\"\" Esta serie podría mejorar, la trama es excelente pero la animación es defectuosa por momentos. \n",
    "Es genial ver como le colocaron el empeño en construir un mundo tan magico y real, pero al mismo hay puntos \n",
    "en la historia que no tienen sentido e incluso llega a ser aburrido. Quitando todo eso, es recomendada para los fans\n",
    "de mundos magicos, seguro les va a gustar, pero puede decepcionarles un poco a los que buscan algo con más calidad\"\"\" \n",
    "positive_words = [\"bueno\", \"excelente\", \"maravilloso\", \"magnifico\", \"estupendo\", \"genial\", \"recomendada\"] \n",
    "negative_words = [\"defectuosa\", \"malo\", \"horrible\", \"no tiene sentido\", \"aburrido\"] \n",
    "\n",
    "score = 0 \n",
    "for positive_word in positive_words: \n",
    "    score = score + comentario.count(positive_word)\n",
    "    \n",
    "for negative_word in negative_words: \n",
    "    score = score - comentario.count(negative_word) \n",
    "    \n",
    "if score == 0:\n",
    "    result = \"Neutro\"\n",
    "if score > 0:   \n",
    "    result = \"Positivo\" \n",
    "if score < 0:  \n",
    "    result = \"Negativo\" \n",
    "    \n",
    "print(\"Analizador de sentimientos\\n\")\n",
    "print(\"comentario: {}\\nscore: {} \\nresultado: {}\".format(comentario, score, result))"
   ]
  },
  {
   "cell_type": "code",
   "execution_count": null,
   "id": "a9ec643a-d63d-475c-82a5-b7bc951238e7",
   "metadata": {},
   "outputs": [],
   "source": []
  }
 ],
 "metadata": {
  "kernelspec": {
   "display_name": "Python 3 (ipykernel)",
   "language": "python",
   "name": "python3"
  },
  "language_info": {
   "codemirror_mode": {
    "name": "ipython",
    "version": 3
   },
   "file_extension": ".py",
   "mimetype": "text/x-python",
   "name": "python",
   "nbconvert_exporter": "python",
   "pygments_lexer": "ipython3",
   "version": "3.12.4"
  }
 },
 "nbformat": 4,
 "nbformat_minor": 5
}
