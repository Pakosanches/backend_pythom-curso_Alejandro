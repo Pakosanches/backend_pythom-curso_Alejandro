{
 "cells": [
  {
   "cell_type": "markdown",
   "id": "66a8e068-ef0a-4c08-9629-f55d8dd0f4df",
   "metadata": {},
   "source": [
    "# Ejercicio - Fundamentos"
   ]
  },
  {
   "cell_type": "markdown",
   "id": "1678d50f-463b-4090-828e-83cd09a70a90",
   "metadata": {},
   "source": [
    "### Entero / Int"
   ]
  },
  {
   "cell_type": "code",
   "execution_count": 2,
   "id": "04351d0a-2388-4ef0-8862-b01df986ac16",
   "metadata": {},
   "outputs": [
    {
     "name": "stdout",
     "output_type": "stream",
     "text": [
      "10\n",
      "<class 'int'>\n"
     ]
    }
   ],
   "source": [
    "my_number= (10)\n",
    "print(my_number) \n",
    "print(type(my_number))"
   ]
  },
  {
   "cell_type": "markdown",
   "id": "fe188e7f-e9c5-4e1e-9373-b2db9d0796ec",
   "metadata": {},
   "source": [
    "### String / Cadena"
   ]
  },
  {
   "cell_type": "code",
   "execution_count": 4,
   "id": "fa55a865-4117-4348-bb13-a69006a24adb",
   "metadata": {},
   "outputs": [
    {
     "name": "stdout",
     "output_type": "stream",
     "text": [
      "Hola mundo, como están todos\n",
      "<class 'str'>\n"
     ]
    }
   ],
   "source": [
    "mi_cadena= (\"Hola mundo, como están todos\")\n",
    "print(mi_cadena)\n",
    "print(type(mi_cadena))"
   ]
  },
  {
   "cell_type": "markdown",
   "id": "6f3367d6-ac24-4084-be7b-1bd3ae2db8d3",
   "metadata": {},
   "source": [
    "### Float / Flotante"
   ]
  },
  {
   "cell_type": "code",
   "execution_count": 6,
   "id": "5ee8485f-3420-44d7-9981-78b628d8a04b",
   "metadata": {},
   "outputs": [
    {
     "name": "stdout",
     "output_type": "stream",
     "text": [
      "10.5\n",
      "<class 'float'>\n"
     ]
    }
   ],
   "source": [
    "my_number= (10.5)\n",
    "print(my_number)\n",
    "print(type(my_number))"
   ]
  },
  {
   "cell_type": "code",
   "execution_count": null,
   "id": "af1d5602-2251-4a93-b17b-03ae969232f5",
   "metadata": {},
   "outputs": [],
   "source": []
  }
 ],
 "metadata": {
  "kernelspec": {
   "display_name": "Python 3 (ipykernel)",
   "language": "python",
   "name": "python3"
  },
  "language_info": {
   "codemirror_mode": {
    "name": "ipython",
    "version": 3
   },
   "file_extension": ".py",
   "mimetype": "text/x-python",
   "name": "python",
   "nbconvert_exporter": "python",
   "pygments_lexer": "ipython3",
   "version": "3.12.4"
  }
 },
 "nbformat": 4,
 "nbformat_minor": 5
}
